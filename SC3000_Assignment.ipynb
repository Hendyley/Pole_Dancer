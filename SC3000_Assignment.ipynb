{
  "nbformat": 4,
  "nbformat_minor": 0,
  "metadata": {
    "colab": {
      "provenance": [],
      "include_colab_link": true
    },
    "kernelspec": {
      "name": "python3",
      "display_name": "Python 3"
    },
    "language_info": {
      "name": "python"
    }
  },
  "cells": [
    {
      "cell_type": "markdown",
      "metadata": {
        "id": "view-in-github",
        "colab_type": "text"
      },
      "source": [
        "<a href=\"https://colab.research.google.com/github/Hendyley/Pole_Dancer/blob/main/SC3000_Assignment.ipynb\" target=\"_parent\"><img src=\"https://colab.research.google.com/assets/colab-badge.svg\" alt=\"Open In Colab\"/></a>"
      ]
    },
    {
      "cell_type": "markdown",
      "source": [
        "# <h1><center>**SC3000 Assinment 1 Balancing a Pole on a Cart**<center></h1>\n",
        "\n",
        "---\n",
        "\n",
        "<center><img src=\"https://miro.medium.com/max/694/1*iOceBp5ks4X_Bs-8vqT2qA.png\" href=\"https://miro.medium.com/max/694/1*iOceBp5ks4X_Bs-8vqT2qA.png\"></center>\n",
        "\n",
        "\n",
        "##### Source: https://miro.medium.com/max/694/1*iOceBp5ks4X_Bs-8vqT2qA.png\n"
      ],
      "metadata": {
        "id": "7ZkbK80ft0RV"
      }
    },
    {
      "cell_type": "markdown",
      "source": [
        "### Installing dependencies:\n",
        "\n",
        "> Indented block\n",
        "\n"
      ],
      "metadata": {
        "id": "UBiYOoesYMvr"
      }
    },
    {
      "cell_type": "markdown",
      "source": [
        "###### Reference:\n",
        "###### Python Gymnasium source: https://gymnasium.farama.org/\n"
      ],
      "metadata": {
        "id": "YRl0Yr9pAHFY"
      }
    },
    {
      "cell_type": "code",
      "source": [
        "!pip install requests\n",
        "!pip install --upgrade setuptools\n",
        "!pip install scores\n",
        "!pip install gymnasium\n",
        "!pip install Box2D\n",
        "!pip install tools"
      ],
      "metadata": {
        "id": "xjdARNrQAuG9",
        "outputId": "db2b2224-447a-494f-f7db-0ad1d61757fb",
        "colab": {
          "base_uri": "https://localhost:8080/"
        }
      },
      "execution_count": 33,
      "outputs": [
        {
          "output_type": "stream",
          "name": "stdout",
          "text": [
            "Looking in indexes: https://pypi.org/simple, https://us-python.pkg.dev/colab-wheels/public/simple/\n",
            "Requirement already satisfied: requests in /usr/local/lib/python3.8/dist-packages (2.25.1)\n",
            "Requirement already satisfied: urllib3<1.27,>=1.21.1 in /usr/local/lib/python3.8/dist-packages (from requests) (1.24.3)\n",
            "Requirement already satisfied: certifi>=2017.4.17 in /usr/local/lib/python3.8/dist-packages (from requests) (2022.12.7)\n",
            "Requirement already satisfied: chardet<5,>=3.0.2 in /usr/local/lib/python3.8/dist-packages (from requests) (4.0.0)\n",
            "Requirement already satisfied: idna<3,>=2.5 in /usr/local/lib/python3.8/dist-packages (from requests) (2.10)\n",
            "Looking in indexes: https://pypi.org/simple, https://us-python.pkg.dev/colab-wheels/public/simple/\n",
            "Requirement already satisfied: setuptools in /usr/local/lib/python3.8/dist-packages (67.4.0)\n",
            "Looking in indexes: https://pypi.org/simple, https://us-python.pkg.dev/colab-wheels/public/simple/\n",
            "Requirement already satisfied: scores in /usr/local/lib/python3.8/dist-packages (0.0.1)\n",
            "Looking in indexes: https://pypi.org/simple, https://us-python.pkg.dev/colab-wheels/public/simple/\n",
            "Requirement already satisfied: gymnasium in /usr/local/lib/python3.8/dist-packages (0.27.1)\n",
            "Requirement already satisfied: cloudpickle>=1.2.0 in /usr/local/lib/python3.8/dist-packages (from gymnasium) (2.2.1)\n",
            "Requirement already satisfied: jax-jumpy>=0.2.0 in /usr/local/lib/python3.8/dist-packages (from gymnasium) (0.2.0)\n",
            "Requirement already satisfied: numpy>=1.21.0 in /usr/local/lib/python3.8/dist-packages (from gymnasium) (1.21.6)\n",
            "Requirement already satisfied: importlib-metadata>=4.8.0 in /usr/local/lib/python3.8/dist-packages (from gymnasium) (6.0.0)\n",
            "Requirement already satisfied: typing-extensions>=4.3.0 in /usr/local/lib/python3.8/dist-packages (from gymnasium) (4.5.0)\n",
            "Requirement already satisfied: gymnasium-notices>=0.0.1 in /usr/local/lib/python3.8/dist-packages (from gymnasium) (0.0.1)\n",
            "Requirement already satisfied: zipp>=0.5 in /usr/local/lib/python3.8/dist-packages (from importlib-metadata>=4.8.0->gymnasium) (3.13.0)\n",
            "Looking in indexes: https://pypi.org/simple, https://us-python.pkg.dev/colab-wheels/public/simple/\n",
            "Requirement already satisfied: Box2D in /usr/local/lib/python3.8/dist-packages (2.3.10)\n",
            "Looking in indexes: https://pypi.org/simple, https://us-python.pkg.dev/colab-wheels/public/simple/\n",
            "Requirement already satisfied: tools in /usr/local/lib/python3.8/dist-packages (0.1.9)\n",
            "Requirement already satisfied: six in /usr/local/lib/python3.8/dist-packages (from tools) (1.15.0)\n",
            "Requirement already satisfied: lxml in /usr/local/lib/python3.8/dist-packages (from tools) (4.9.2)\n",
            "Requirement already satisfied: pytils in /usr/local/lib/python3.8/dist-packages (from tools) (0.4.1)\n"
          ]
        }
      ]
    },
    {
      "cell_type": "code",
      "execution_count": 2,
      "metadata": {
        "colab": {
          "base_uri": "https://localhost:8080/"
        },
        "id": "PbgnVwZmX5uW",
        "outputId": "6618c4e6-d299-44a4-dc39-4690ad628cbb"
      },
      "outputs": [
        {
          "output_type": "stream",
          "name": "stdout",
          "text": [
            "Looking in indexes: https://pypi.org/simple, https://us-python.pkg.dev/colab-wheels/public/simple/\n",
            "Requirement already satisfied: gym[classic_control] in /usr/local/lib/python3.8/dist-packages (0.25.2)\n",
            "Requirement already satisfied: gym-notices>=0.0.4 in /usr/local/lib/python3.8/dist-packages (from gym[classic_control]) (0.0.8)\n",
            "Requirement already satisfied: cloudpickle>=1.2.0 in /usr/local/lib/python3.8/dist-packages (from gym[classic_control]) (2.2.1)\n",
            "Requirement already satisfied: importlib-metadata>=4.8.0 in /usr/local/lib/python3.8/dist-packages (from gym[classic_control]) (6.0.0)\n",
            "Requirement already satisfied: numpy>=1.18.0 in /usr/local/lib/python3.8/dist-packages (from gym[classic_control]) (1.21.6)\n",
            "Requirement already satisfied: pygame==2.1.0 in /usr/local/lib/python3.8/dist-packages (from gym[classic_control]) (2.1.0)\n",
            "Requirement already satisfied: zipp>=0.5 in /usr/local/lib/python3.8/dist-packages (from importlib-metadata>=4.8.0->gym[classic_control]) (3.13.0)\n",
            "Looking in indexes: https://pypi.org/simple, https://us-python.pkg.dev/colab-wheels/public/simple/\n",
            "Requirement already satisfied: setuptools in /usr/local/lib/python3.8/dist-packages (67.4.0)\n"
          ]
        }
      ],
      "source": [
        "!apt-get install -y xvfb python-opengl > /dev/null 2>&1\n",
        "!pip install gym pyvirtualdisplay > /dev/null 2>&1\n",
        "!pip install gym pyvirtualdisplay > /dev/null 2>&1\n",
        "!apt-get install -y xvfb python-opengl ffmpeg > /dev/null 2>&1\n",
        "!pip install gym[classic_control]\n",
        "!apt-get update > /dev/null 2>&1\n",
        "!apt-get install cmake > /dev/null 2>&1\n",
        "!pip install --upgrade setuptools 2>&1\n",
        "!pip install ez_setup > /dev/null 2>&1"
      ]
    },
    {
      "cell_type": "markdown",
      "source": [
        "## Importing dependencies and define helper functions"
      ],
      "metadata": {
        "id": "RwKbYeTgbaTA"
      }
    },
    {
      "cell_type": "code",
      "source": [
        "import gym\n",
        "from gym import logger as gymlogger\n",
        "from gym.wrappers import RecordVideo\n",
        "gymlogger.set_level(40) #error only\n",
        "import tensorflow as tf\n",
        "import numpy as np\n",
        "import random\n",
        "import matplotlib\n",
        "import matplotlib.pyplot as plt\n",
        "%matplotlib inline\n",
        "import math\n",
        "import glob\n",
        "import io\n",
        "import base64\n",
        "from IPython.display import HTML\n",
        "from IPython import display as ipythondisplay\n",
        "\n",
        "def show_video():\n",
        "  mp4list = glob.glob('video/*.mp4')\n",
        "  if len(mp4list) > 0:\n",
        "    mp4 = mp4list[0]\n",
        "    video = io.open(mp4, 'r+b').read()\n",
        "    encoded = base64.b64encode(video)\n",
        "    ipythondisplay.display(HTML(data='''<video alt=\"test\" autoplay \n",
        "                loop controls style=\"height: 400px;\">\n",
        "                <source src=\"data:video/mp4;base64,{0}\" type=\"video/mp4\" />\n",
        "             </video>'''.format(encoded.decode('ascii'))))\n",
        "  else: \n",
        "    print(\"Could not find video\")"
      ],
      "metadata": {
        "id": "j6KpgCLGYWmj"
      },
      "execution_count": 3,
      "outputs": []
    },
    {
      "cell_type": "markdown",
      "source": [
        "## Loading CartPole environment"
      ],
      "metadata": {
        "id": "ehbqP9CXbmo7"
      }
    },
    {
      "cell_type": "code",
      "source": [
        "env = gym.make(\"CartPole-v1\")"
      ],
      "metadata": {
        "id": "Go12dH4qbwBy"
      },
      "execution_count": 41,
      "outputs": []
    },
    {
      "cell_type": "markdown",
      "source": [
        "We can check the action and observation space of this environment. Discrete(2) means that there are two valid discrete actions: 0 & 1."
      ],
      "metadata": {
        "id": "9XZ9g3xrcAXE"
      }
    },
    {
      "cell_type": "code",
      "source": [
        "print(env.action_space)"
      ],
      "metadata": {
        "colab": {
          "base_uri": "https://localhost:8080/"
        },
        "id": "ytxvVmLdcRyw",
        "outputId": "e26fce9c-ba62-495e-ebaf-87b51b0d1243"
      },
      "execution_count": 42,
      "outputs": [
        {
          "output_type": "stream",
          "name": "stdout",
          "text": [
            "Discrete(2)\n"
          ]
        }
      ]
    },
    {
      "cell_type": "markdown",
      "source": [
        "The observation space is given below. The first two arrays define the min and max values of the 4 observed values, corresponding to cart position, velocity and pole angle, angular velocity."
      ],
      "metadata": {
        "id": "pVXGWi_Ncfg-"
      }
    },
    {
      "cell_type": "code",
      "source": [
        "print(env.observation_space)"
      ],
      "metadata": {
        "colab": {
          "base_uri": "https://localhost:8080/"
        },
        "id": "DyqHr9I5cdkX",
        "outputId": "1d163284-125f-4bf1-a1af-99113143b727"
      },
      "execution_count": 94,
      "outputs": [
        {
          "output_type": "stream",
          "name": "stdout",
          "text": [
            "Box([-4.8000002e+00 -3.4028235e+38 -4.1887903e-01 -3.4028235e+38], [4.8000002e+00 3.4028235e+38 4.1887903e-01 3.4028235e+38], (4,), float32)\n"
          ]
        }
      ]
    },
    {
      "cell_type": "markdown",
      "source": [
        "We call each round of the pole-balancing game an \"episode\". At the start of each episode, make sure the environment is reset, which chooses a random initial state, e.g., pole slightly tilted to the right. This initialization can be achieved by the code below, which returns the observation of the initial state."
      ],
      "metadata": {
        "id": "HFOdaU2Gdyg0"
      }
    },
    {
      "cell_type": "code",
      "source": [
        "observation = env.reset()\n",
        "print(\"Initial observations:\", observation)\n",
        "\n",
        "\n",
        "print(\"Action Space {}\".format(env.action_space))\n",
        "print(\"State Space {}\".format(env.observation_space))"
      ],
      "metadata": {
        "colab": {
          "base_uri": "https://localhost:8080/"
        },
        "id": "VMr6qAqxdOsm",
        "outputId": "3b25a221-8637-47be-ec59-ba1f6198e229"
      },
      "execution_count": 84,
      "outputs": [
        {
          "output_type": "stream",
          "name": "stdout",
          "text": [
            "Initial observations: [ 0.01369603  0.04901366 -0.00632913  0.01422017]\n",
            "Action Space Discrete(2)\n",
            "State Space Box([-4.8000002e+00 -3.4028235e+38 -4.1887903e-01 -3.4028235e+38], [4.8000002e+00 3.4028235e+38 4.1887903e-01 3.4028235e+38], (4,), float32)\n"
          ]
        }
      ]
    },
    {
      "cell_type": "markdown",
      "source": [
        "For the CartPole environment, there are two possible actions: 0 for pushing to the left and 1 for pushing to the right. For example, we can push the cart to the left using code below, which returns the new observation, the current reward, an indicator of whether the game ends, and some additional information (not used in this project). For CartPole, the game ends when the pole is significantly tilted or you manage to balance the pole for 500 steps. You get exactly 1 reward for each step before the game ends (i.e., max cumulative reward is 500)."
      ],
      "metadata": {
        "id": "qnG2QdfbeZrI"
      }
    },
    {
      "cell_type": "code",
      "source": [
        "observation, reward, done, info = env.step(0)\n",
        "#observation, reward, done, info, terminated, truncated = env.step(0)\n",
        "print(\"New observations after choosing action 0:\", observation)\n",
        "print(\"Reward for this step:\", reward)\n",
        "print(\"Is this round done?\", done)\n",
        "\n",
        "\n"
      ],
      "metadata": {
        "colab": {
          "base_uri": "https://localhost:8080/"
        },
        "id": "MmfMDvyYdWGk",
        "outputId": "08f59605-46bd-40b8-8b68-342114841b6f"
      },
      "execution_count": 85,
      "outputs": [
        {
          "output_type": "stream",
          "name": "stdout",
          "text": [
            "New observations after choosing action 0: [ 0.0146763  -0.14601696 -0.00604472  0.30489948]\n",
            "Reward for this step: 1.0\n",
            "Is this round done? False\n"
          ]
        }
      ]
    },
    {
      "cell_type": "code",
      "source": [
        "env = gym.make(\"CartPole\")\n",
        "print(env.action_space.n)\n",
        "\n",
        "LEARNING_RATE = 0.1\n",
        "\n",
        "DISCOUNT = 0.95\n",
        "EPISODES = 60000\n",
        "total = 0\n",
        "total_reward = 0\n",
        "prior_reward = 0\n",
        "\n",
        "observation = env.reset()\n",
        "print(\"Initial observations:\", observation)\n",
        "print(\"Action Space {}\".format(env.action_space))\n",
        "print(\"State Space {}\".format(env.observation_space))\n",
        "\n",
        "\n",
        "Observation = [30, 30, 50, 50]\n",
        "np_array_win_size = np.array([0.25, 0.25, 0.01, 0.1])\n",
        "epsilon = 1\n",
        "epsilon_decay_value = 0.99995\n",
        "\n",
        "q_table = np.random.uniform(low=0, high=1, size=(Observation + [env.action_space.n]))\n",
        "q_table.shape\n",
        "\n",
        "def get_discrete_state(state):\n",
        "    discrete_state = state/np_array_win_size+ np.array([15,10,1,10])\n",
        "    return tuple(discrete_state.astype(np.int))\n",
        "\n",
        "\n"
      ],
      "metadata": {
        "id": "iMoBoR5KwrPJ",
        "outputId": "f8b2cfa0-fcb0-4827-d25c-36bae962cb07",
        "colab": {
          "base_uri": "https://localhost:8080/"
        }
      },
      "execution_count": 133,
      "outputs": [
        {
          "output_type": "stream",
          "name": "stdout",
          "text": [
            "2\n",
            "Initial observations: [ 0.02759341 -0.04662059  0.04026144 -0.00983492]\n",
            "Action Space Discrete(2)\n",
            "State Space Box([-4.8000002e+00 -3.4028235e+38 -4.1887903e-01 -3.4028235e+38], [4.8000002e+00 3.4028235e+38 4.1887903e-01 3.4028235e+38], (4,), float32)\n"
          ]
        }
      ]
    },
    {
      "cell_type": "code",
      "source": [
        "import time\n",
        "for episode in range(EPISODES + 1): \n",
        "    t0 = time.time() \n",
        "    discrete_state = get_discrete_state(env.reset()) \n",
        "    done = False\n",
        "    episode_reward = 0 \n",
        "\n",
        "    if episode % 2000 == 0: \n",
        "        print(\"Episode: \" + str(episode))\n",
        "\n",
        "    while not done: \n",
        "\n",
        "        if np.random.random() > epsilon:\n",
        "\n",
        "            action = np.argmax(q_table[discrete_state]) \n",
        "        else:\n",
        "\n",
        "            action = np.random.randint(0, env.action_space.n) \n",
        "\n",
        "        new_state, reward, done, _ = env.step(action) \n",
        "        episode_reward += reward \n",
        "        new_discrete_state = get_discrete_state(new_state)\n",
        "\n",
        "        #if episode % 2000 == 0: \n",
        "            #env.render()\n",
        "           \n",
        "\n",
        "        if not done: \n",
        "            max_future_q = np.max(q_table[new_discrete_state])\n",
        "\n",
        "            current_q = q_table[discrete_state + (action,)]\n",
        "\n",
        "            new_q = (1 - LEARNING_RATE) * current_q + LEARNING_RATE * (reward + DISCOUNT * max_future_q)\n",
        "\n",
        "            q_table[discrete_state + (action,)] = new_q\n",
        "\n",
        "        discrete_state = new_discrete_state\n",
        "\n",
        "    if epsilon > 0.05: \n",
        "        if episode_reward > prior_reward and episode > 10000:\n",
        "            epsilon = math.pow(epsilon_decay_value, episode - 10000)\n",
        "\n",
        "            if episode % 500 == 0:\n",
        "                print(\"Epsilon: \" + str(epsilon))\n",
        "\n",
        "    t1 = time.time() \n",
        "    episode_total = t1 - t0 \n",
        "    total = total + episode_total\n",
        "\n",
        "    total_reward += episode_reward \n",
        "    prior_reward = episode_reward\n",
        "\n",
        "    if episode % 1000 == 0: \n",
        "        mean = total / 1000\n",
        "        print(\"Time Average: \" + str(mean))\n",
        "        total = 0\n",
        "\n",
        "        mean_reward = total_reward / 1000\n",
        "        print(\"Mean Reward: \" + str(mean_reward))\n",
        "        total_reward = 0\n",
        "\n",
        "env.close()"
      ],
      "metadata": {
        "id": "fIb9KVpE4lsI",
        "outputId": "9bd42d05-8b36-4215-8218-d57993ebdc9e",
        "colab": {
          "base_uri": "https://localhost:8080/"
        }
      },
      "execution_count": 139,
      "outputs": [
        {
          "output_type": "stream",
          "name": "stderr",
          "text": [
            "<ipython-input-133-6f4583daddea>:28: DeprecationWarning: `np.int` is a deprecated alias for the builtin `int`. To silence this warning, use `int` by itself. Doing this will not modify any behavior and is safe. When replacing `np.int`, you may wish to use e.g. `np.int64` or `np.int32` to specify the precision. If you wish to review your current use, check the release note link for additional information.\n",
            "Deprecated in NumPy 1.20; for more details and guidance: https://numpy.org/devdocs/release/1.20.0-notes.html#deprecations\n",
            "  return tuple(discrete_state.astype(np.int))\n"
          ]
        },
        {
          "output_type": "stream",
          "name": "stdout",
          "text": [
            "Episode: 0\n",
            "Time Average: 4.21452522277832e-06\n",
            "Mean Reward: 0.013\n",
            "Time Average: 0.0024006683826446533\n",
            "Mean Reward: 22.188\n",
            "Episode: 2000\n",
            "Time Average: 0.0012655818462371825\n",
            "Mean Reward: 22.959\n",
            "Time Average: 0.0017132418155670166\n",
            "Mean Reward: 22.011\n",
            "Episode: 4000\n",
            "Time Average: 0.0018308489322662353\n",
            "Mean Reward: 22.642\n",
            "Time Average: 0.0018096179962158203\n",
            "Mean Reward: 22.088\n",
            "Episode: 6000\n",
            "Time Average: 0.0010644826889038086\n",
            "Mean Reward: 22.102\n",
            "Time Average: 0.0010605437755584718\n",
            "Mean Reward: 21.727\n",
            "Episode: 8000\n",
            "Time Average: 0.001086627721786499\n",
            "Mean Reward: 22.008\n",
            "Time Average: 0.0010863234996795655\n",
            "Mean Reward: 21.584\n",
            "Episode: 10000\n",
            "Time Average: 0.0011228923797607423\n",
            "Mean Reward: 22.558\n",
            "Epsilon: 0.9512282354250458\n",
            "Time Average: 0.0011208579540252686\n",
            "Mean Reward: 22.848\n",
            "Epsilon: 0.9277417467531685\n",
            "Episode: 12000\n",
            "Time Average: 0.0012093124389648438\n",
            "Mean Reward: 24.454\n",
            "Epsilon: 0.8824941446941661\n",
            "Epsilon: 0.8607047486686201\n",
            "Time Average: 0.001236109733581543\n",
            "Mean Reward: 25.408\n",
            "Epsilon: 0.8394533480303666\n",
            "Episode: 14000\n",
            "Epsilon: 0.818726659298009\n",
            "Time Average: 0.0016301972866058349\n",
            "Mean Reward: 26.295\n",
            "Time Average: 0.0025094261169433594\n",
            "Mean Reward: 28.272\n",
            "Epsilon: 0.7595669010105212\n",
            "Episode: 16000\n",
            "Epsilon: 0.7408126643807126\n",
            "Time Average: 0.002663991928100586\n",
            "Mean Reward: 30.6\n",
            "Epsilon: 0.7225214829355084\n",
            "Epsilon: 0.7046819235193919\n",
            "Time Average: 0.0017346985340118408\n",
            "Mean Reward: 33.37\n",
            "Epsilon: 0.687282835269431\n",
            "Episode: 18000\n",
            "Time Average: 0.0017746717929840088\n",
            "Mean Reward: 35.567\n",
            "Epsilon: 0.6537628386312633\n",
            "Time Average: 0.0019312851428985596\n",
            "Mean Reward: 38.73\n",
            "Epsilon: 0.6218776713776856\n",
            "Episode: 20000\n",
            "Epsilon: 0.606523077874078\n",
            "Time Average: 0.0021314685344696045\n",
            "Mean Reward: 42.328\n",
            "Epsilon: 0.5915475999948323\n",
            "Epsilon: 0.5769418771107269\n",
            "Time Average: 0.0023268988132476806\n",
            "Mean Reward: 46.078\n",
            "Episode: 22000\n",
            "Epsilon: 0.5488034037068503\n",
            "Time Average: 0.004116014003753662\n",
            "Mean Reward: 49.805\n",
            "Time Average: 0.003405192852020264\n",
            "Mean Reward: 56.134\n",
            "Episode: 24000\n",
            "Epsilon: 0.4965766133349901\n",
            "Time Average: 0.0029579925537109373\n",
            "Mean Reward: 61.17\n",
            "Time Average: 0.0032456467151641844\n",
            "Mean Reward: 66.187\n",
            "Episode: 26000\n",
            "Time Average: 0.0044801666736602784\n",
            "Mean Reward: 70.98\n",
            "Epsilon: 0.43822595366018774\n",
            "Epsilon: 0.4274058491752072\n",
            "Time Average: 0.004933084726333618\n",
            "Mean Reward: 75.628\n",
            "Epsilon: 0.41685290061763824\n",
            "Episode: 28000\n",
            "Time Average: 0.0038168716430664064\n",
            "Mean Reward: 78.491\n",
            "Epsilon: 0.396522249086328\n",
            "Time Average: 0.0040660595893859865\n",
            "Mean Reward: 82.884\n",
            "Epsilon: 0.3771831593051582\n",
            "Episode: 30000\n",
            "Time Average: 0.006553183555603028\n",
            "Mean Reward: 92.579\n",
            "Epsilon: 0.3587872710578896\n",
            "Time Average: 0.004599358797073364\n",
            "Mean Reward: 97.168\n",
            "Epsilon: 0.3412885827413639\n",
            "Episode: 32000\n",
            "Time Average: 0.007981187343597412\n",
            "Mean Reward: 99.181\n",
            "Time Average: 0.005521507740020752\n",
            "Mean Reward: 99.787\n",
            "Epsilon: 0.30880990796138097\n",
            "Episode: 34000\n",
            "Time Average: 0.005560276031494141\n",
            "Mean Reward: 108.575\n",
            "Time Average: 0.008044680833816528\n",
            "Mean Reward: 122.434\n",
            "Episode: 36000\n",
            "Epsilon: 0.27252293559946306\n",
            "Time Average: 0.005952605962753296\n",
            "Mean Reward: 122.325\n",
            "Time Average: 0.008626798391342163\n",
            "Mean Reward: 129.229\n",
            "Epsilon: 0.2528309043033471\n",
            "Episode: 38000\n",
            "Time Average: 0.006179605007171631\n",
            "Mean Reward: 131.087\n",
            "Epsilon: 0.24049989496139146\n",
            "Time Average: 0.008877501964569092\n",
            "Mean Reward: 141.373\n",
            "Epsilon: 0.22877029070403326\n",
            "Episode: 40000\n",
            "Epsilon: 0.22312179264543486\n",
            "Time Average: 0.007809883356094361\n",
            "Mean Reward: 166.052\n",
            "Time Average: 0.009334093570709228\n",
            "Mean Reward: 139.337\n",
            "Epsilon: 0.206999401647574\n",
            "Episode: 42000\n",
            "Epsilon: 0.20188844202629158\n",
            "Time Average: 0.006639568090438842\n",
            "Mean Reward: 140.544\n",
            "Epsilon: 0.19690367556326213\n",
            "Epsilon: 0.192041986461381\n",
            "Time Average: 0.00895475435256958\n",
            "Mean Reward: 144.944\n",
            "Epsilon: 0.18730033585474753\n",
            "Episode: 44000\n",
            "Time Average: 0.007567346811294556\n",
            "Mean Reward: 158.713\n",
            "Epsilon: 0.17816536796962992\n",
            "Epsilon: 0.17376634075333858\n",
            "Time Average: 0.009932769775390624\n",
            "Mean Reward: 162.36\n",
            "Episode: 46000\n",
            "Time Average: 0.010074492454528808\n",
            "Mean Reward: 185.664\n",
            "Epsilon: 0.16121028849740862\n",
            "Epsilon: 0.15722989402047993\n",
            "Time Average: 0.01160525107383728\n",
            "Mean Reward: 176.097\n",
            "Epsilon: 0.15334777825975254\n",
            "Episode: 48000\n",
            "Time Average: 0.011305103540420532\n",
            "Mean Reward: 189.86\n",
            "Epsilon: 0.14586873652037563\n",
            "Time Average: 0.011295379161834717\n",
            "Mean Reward: 193.571\n",
            "Epsilon: 0.13875446084395782\n",
            "Episode: 50000\n",
            "Time Average: 0.008121062994003296\n",
            "Mean Reward: 168.896\n",
            "Epsilon: 0.13198716094595161\n",
            "Time Average: 0.011494209289550781\n",
            "Mean Reward: 197.861\n",
            "Episode: 52000\n",
            "Epsilon: 0.12244999924498873\n",
            "Time Average: 0.010873101711273193\n",
            "Mean Reward: 185.982\n",
            "Time Average: 0.00869905948638916\n",
            "Mean Reward: 179.961\n",
            "Episode: 54000\n",
            "Epsilon: 0.11079706415310193\n",
            "Time Average: 0.01076174569129944\n",
            "Mean Reward: 182.512\n",
            "Epsilon: 0.10806140735150761\n",
            "Time Average: 0.01290052032470703\n",
            "Mean Reward: 220.743\n",
            "Episode: 56000\n",
            "Time Average: 0.00972739315032959\n",
            "Mean Reward: 195.435\n",
            "Epsilon: 0.09777776036441635\n",
            "Time Average: 0.009838757038116454\n",
            "Mean Reward: 172.082\n",
            "Episode: 58000\n",
            "Time Average: 0.010319387197494506\n",
            "Mean Reward: 171.69\n",
            "Time Average: 0.007965818405151367\n",
            "Mean Reward: 168.532\n",
            "Episode: 60000\n",
            "Time Average: 0.010434317350387573\n",
            "Mean Reward: 173.166\n"
          ]
        }
      ]
    },
    {
      "cell_type": "markdown",
      "source": [
        "Now we can play a full round of the game using a naive strategy (always choosing action 0), and show the cumulative reward in the round. Note that reward returned by env.step(*) corresponds to the reward for current step. So we have to accumulate the reward for each step. Clearly, the naive strategy performs poorly by surviving only a dozen of steps."
      ],
      "metadata": {
        "id": "tj0zCh59fhBb"
      }
    },
    {
      "cell_type": "code",
      "source": [
        "observation = env.reset()\n",
        "cumulative_reward = 0\n",
        "done = False\n",
        "while not done:\n",
        "    observation, reward, done, info = env.step(0)\n",
        "    cumulative_reward += reward\n",
        "print(\"Cumulative reward for this round:\", cumulative_reward)"
      ],
      "metadata": {
        "colab": {
          "base_uri": "https://localhost:8080/"
        },
        "id": "AVucQVRwf6Jm",
        "outputId": "4bf3dd68-968d-426e-df09-77f710133c21"
      },
      "execution_count": 80,
      "outputs": [
        {
          "output_type": "stream",
          "name": "stdout",
          "text": [
            "Cumulative reward for this round: 10.0\n"
          ]
        }
      ]
    },
    {
      "cell_type": "markdown",
      "source": [
        "## Task 1: Development of an RL agent"
      ],
      "metadata": {
        "id": "2oIzK9SzhlWN"
      }
    },
    {
      "cell_type": "markdown",
      "source": [
        "An example of a naive agent is given below, which randomly chooses an action regardless of the observation:"
      ],
      "metadata": {
        "id": "Cc6_e5c_huiq"
      }
    },
    {
      "cell_type": "code",
      "source": [
        "def rand_policy_agent(observation):\n",
        "    return random.randint(0, 1)"
      ],
      "metadata": {
        "id": "Hk-M4QEfh6l5"
      },
      "execution_count": 11,
      "outputs": []
    },
    {
      "cell_type": "code",
      "source": [
        "from collections import deque\n",
        "from keras.models import Sequential\n",
        "from keras.layers import Dense\n",
        "from keras.optimizers import Adam\n",
        "\n",
        "\n",
        "def Reinforcement_Learning_implementation(state):\n",
        "  if np.random.rand() < 1.0:\n",
        "            return random.randrange(env.action_space.n)\n",
        "  q_values = Sequential.predict(state)\n",
        "  \n",
        "  return np.argmax(q_values[0])"
      ],
      "metadata": {
        "id": "8bjZnmbjT0Hd"
      },
      "execution_count": 166,
      "outputs": []
    },
    {
      "cell_type": "code",
      "source": [
        "action = Reinforcement_Learning_implementation(observation)\n",
        "print(observation)\n",
        "print(action)"
      ],
      "metadata": {
        "id": "TL-EOFr6BENn",
        "outputId": "eb7fe258-6c28-4c84-a2f9-f0d1aa501976",
        "colab": {
          "base_uri": "https://localhost:8080/"
        }
      },
      "execution_count": 157,
      "outputs": [
        {
          "output_type": "stream",
          "name": "stdout",
          "text": [
            "[-0.07516804 -0.16832691  0.22416742  0.757913  ]\n",
            "1\n"
          ]
        }
      ]
    },
    {
      "cell_type": "markdown",
      "source": [
        "For Task 1, we can show the observation and chosen action below:"
      ],
      "metadata": {
        "id": "RAi7KKwNiegR"
      }
    },
    {
      "cell_type": "code",
      "source": [
        "observation = env.reset()\n",
        "#action = rand_policy_agent(observation)\n",
        "action = Reinforcement_Learning_implementation(observation)\n",
        "print(\"Observation:\", observation)\n",
        "print(\"Chosen action:\", action)\n",
        "print(\"Chosen reward:\", reward)\n",
        "\n",
        "cumulative_reward = 0\n",
        "done = False\n",
        "while not done:\n",
        "    observation, reward, done, info = env.step(0)\n",
        "    cumulative_reward += reward\n",
        "print(\"Cumulative reward for this round:\", cumulative_reward)"
      ],
      "metadata": {
        "colab": {
          "base_uri": "https://localhost:8080/"
        },
        "id": "ae2ia-vUiNKJ",
        "outputId": "cf7d3f36-db40-4024-f9c3-aefc04f5741e"
      },
      "execution_count": 179,
      "outputs": [
        {
          "output_type": "stream",
          "name": "stdout",
          "text": [
            "Observation: [-0.01811856  0.02672369 -0.01358201  0.0395399 ]\n",
            "Chosen action: 0\n",
            "Chosen reward: 0.0\n",
            "Cumulative reward for this round: 10.0\n"
          ]
        }
      ]
    },
    {
      "cell_type": "markdown",
      "source": [
        "## Task 2: Demonstrate the effectiveness of the RL agent"
      ],
      "metadata": {
        "id": "-XtIQ0Rti1gm"
      }
    },
    {
      "cell_type": "markdown",
      "source": [
        "For this task, use the agent developed in Task 1 to play the game for 100 episodes (refer to tutorial for how to play a round), record the cumulative reward for each round, and plot the reward for each round. A sample plotting code is given below. Note that you must include code to play for 100 episodes and use the code to obtain round_results for plotting. DO NOT record the round results in advance and paste the results to the notebook."
      ],
      "metadata": {
        "id": "djBEShf0kGI4"
      }
    },
    {
      "cell_type": "code",
      "source": [
        "episode_results = np.random.randint(150, 250, size=100)\n",
        "plt.plot(episode_results)\n",
        "plt.title('Cumulative reward for each episode')\n",
        "plt.ylabel('Cumulative reward')\n",
        "plt.xlabel('episode')\n",
        "plt.show()"
      ],
      "metadata": {
        "colab": {
          "base_uri": "https://localhost:8080/",
          "height": 295
        },
        "id": "RZrCKywQi6CE",
        "outputId": "4ecc8d63-9775-4c4b-b3ff-922bc000fa54"
      },
      "execution_count": 13,
      "outputs": [
        {
          "output_type": "display_data",
          "data": {
            "text/plain": [
              "<Figure size 432x288 with 1 Axes>"
            ],
            "image/png": "[encoded data removed]"
          },
          "metadata": {
            "needs_background": "light"
          }
        }
      ]
    },
    {
      "cell_type": "code",
      "source": [
        "episode_results"
      ],
      "metadata": {
        "id": "ocGqOrVbuXbd",
        "outputId": "106dff78-2295-458a-da93-1339c5913284",
        "colab": {
          "base_uri": "https://localhost:8080/"
        }
      },
      "execution_count": 79,
      "outputs": [
        {
          "output_type": "execute_result",
          "data": {
            "text/plain": [
              "array([237, 176, 176, 176, 198, 208, 240, 210, 160, 235, 196, 241, 194,\n",
              "       240, 238, 244, 153, 199, 242, 213, 199, 234, 201, 158, 237, 228,\n",
              "       211, 248, 234, 157, 161, 221, 168, 204, 214, 234, 224, 178, 239,\n",
              "       210, 163, 206, 211, 196, 179, 224, 211, 226, 169, 194, 202, 244,\n",
              "       209, 182, 175, 188, 174, 201, 191, 176, 198, 163, 206, 168, 205,\n",
              "       201, 223, 223, 216, 239, 232, 186, 163, 165, 189, 222, 247, 223,\n",
              "       214, 240, 186, 173, 197, 199, 244, 240, 202, 230, 224, 159, 221,\n",
              "       150, 208, 157, 206, 198, 187, 249, 152, 237])"
            ]
          },
          "metadata": {},
          "execution_count": 79
        }
      ]
    },
    {
      "cell_type": "code",
      "source": [
        "rewards_collection=[]\n",
        "for x in range(100):\n",
        "  action = Reinforcement_Learning_implementation(observation)\n",
        "  cumulative_reward = 0\n",
        "  done = False\n",
        "  while not done:\n",
        "      observation, reward, done, info = env.step(action)\n",
        "      cumulative_reward += reward\n",
        "  print(\"Cumulative reward for this round:\", cumulative_reward)\n",
        "  rewards_collection.append(cumulative_reward)"
      ],
      "metadata": {
        "id": "AMOlH53YfOsF"
      },
      "execution_count": null,
      "outputs": []
    },
    {
      "cell_type": "code",
      "source": [
        "rewards_collection"
      ],
      "metadata": {
        "id": "SdQR8cW1CP5e"
      },
      "execution_count": null,
      "outputs": []
    },
    {
      "cell_type": "code",
      "source": [
        "import time\n",
        "rewards_collection = []\n",
        "for episode in range(100 + 1): \n",
        "    action = Reinforcement_Learning_implementation(observation) # Try with Func\n",
        "    t0 = time.time() \n",
        "    discrete_state = get_discrete_state(env.reset()) \n",
        "    done = False\n",
        "    episode_reward = 0 \n",
        "    \n",
        "    print(\"Episode: \" + str(episode))\n",
        "    while not done: \n",
        "\n",
        "        if np.random.random() > epsilon:\n",
        "            action = np.argmax(q_table[discrete_state]) \n",
        "        else:\n",
        "            action = np.random.randint(0, env.action_space.n) \n",
        "            \n",
        "        new_state, reward, done, _ = env.step(action) \n",
        "        episode_reward += reward \n",
        "        new_discrete_state = get_discrete_state(new_state)\n",
        "\n",
        "        #if episode % 2000 == 0: \n",
        "            #env.render()\n",
        "           \n",
        "        if not done: \n",
        "            max_future_q = np.max(q_table[new_discrete_state])\n",
        "            current_q = q_table[discrete_state + (action,)]\n",
        "            new_q = (1 - LEARNING_RATE) * current_q + LEARNING_RATE * (reward + DISCOUNT * max_future_q)\n",
        "            q_table[discrete_state + (action,)] = new_q\n",
        "        discrete_state = new_discrete_state\n",
        "\n",
        "    if epsilon > 0.05: \n",
        "        if episode_reward > prior_reward and episode > 10000:\n",
        "            epsilon = math.pow(epsilon_decay_value, episode - 10000)\n",
        "            if episode % 500 == 0:\n",
        "                print(\"Epsilon: \" + str(epsilon))\n",
        "\n",
        "    t1 = time.time() \n",
        "    episode_total = t1 - t0 \n",
        "    total = total + episode_total\n",
        "\n",
        "    total_reward += episode_reward \n",
        "    prior_reward = episode_reward\n",
        " \n",
        "    mean = total #/ 1000\n",
        "    #print(\"Time Average: \" + str(mean))\n",
        "    total = 0\n",
        "    mean_reward = total_reward #/ 1000\n",
        "    print(\"Mean Reward: \" + str(mean_reward))\n",
        "    total_reward = 0\n",
        "\n",
        "env.close()"
      ],
      "metadata": {
        "id": "MSAKBOS_-Ghu",
        "outputId": "0afad24f-fd29-4fc2-fb2a-6b75c66049ef",
        "colab": {
          "base_uri": "https://localhost:8080/"
        }
      },
      "execution_count": 142,
      "outputs": [
        {
          "output_type": "stream",
          "name": "stderr",
          "text": [
            "<ipython-input-133-6f4583daddea>:28: DeprecationWarning: `np.int` is a deprecated alias for the builtin `int`. To silence this warning, use `int` by itself. Doing this will not modify any behavior and is safe. When replacing `np.int`, you may wish to use e.g. `np.int64` or `np.int32` to specify the precision. If you wish to review your current use, check the release note link for additional information.\n",
            "Deprecated in NumPy 1.20; for more details and guidance: https://numpy.org/devdocs/release/1.20.0-notes.html#deprecations\n",
            "  return tuple(discrete_state.astype(np.int))\n"
          ]
        },
        {
          "output_type": "stream",
          "name": "stdout",
          "text": [
            "Episode: 0\n",
            "Mean Reward: 337.0\n",
            "Episode: 1\n",
            "Mean Reward: 61.0\n",
            "Episode: 2\n",
            "Mean Reward: 168.0\n",
            "Episode: 3\n",
            "Mean Reward: 149.0\n",
            "Episode: 4\n",
            "Mean Reward: 217.0\n",
            "Episode: 5\n",
            "Mean Reward: 126.0\n",
            "Episode: 6\n",
            "Mean Reward: 218.0\n",
            "Episode: 7\n",
            "Mean Reward: 223.0\n",
            "Episode: 8\n",
            "Mean Reward: 146.0\n",
            "Episode: 9\n",
            "Mean Reward: 156.0\n",
            "Episode: 10\n",
            "Mean Reward: 209.0\n",
            "Episode: 11\n",
            "Mean Reward: 245.0\n",
            "Episode: 12\n",
            "Mean Reward: 150.0\n",
            "Episode: 13\n",
            "Mean Reward: 203.0\n",
            "Episode: 14\n",
            "Mean Reward: 162.0\n",
            "Episode: 15\n",
            "Mean Reward: 139.0\n",
            "Episode: 16\n",
            "Mean Reward: 242.0\n",
            "Episode: 17\n",
            "Mean Reward: 110.0\n",
            "Episode: 18\n",
            "Mean Reward: 173.0\n",
            "Episode: 19\n",
            "Mean Reward: 183.0\n",
            "Episode: 20\n",
            "Mean Reward: 145.0\n",
            "Episode: 21\n",
            "Mean Reward: 221.0\n",
            "Episode: 22\n",
            "Mean Reward: 165.0\n",
            "Episode: 23\n",
            "Mean Reward: 345.0\n",
            "Episode: 24\n",
            "Mean Reward: 166.0\n",
            "Episode: 25\n",
            "Mean Reward: 210.0\n",
            "Episode: 26\n",
            "Mean Reward: 176.0\n",
            "Episode: 27\n",
            "Mean Reward: 382.0\n",
            "Episode: 28\n",
            "Mean Reward: 205.0\n",
            "Episode: 29\n",
            "Mean Reward: 378.0\n",
            "Episode: 30\n",
            "Mean Reward: 188.0\n",
            "Episode: 31\n",
            "Mean Reward: 179.0\n",
            "Episode: 32\n",
            "Mean Reward: 292.0\n",
            "Episode: 33\n",
            "Mean Reward: 147.0\n",
            "Episode: 34\n",
            "Mean Reward: 165.0\n",
            "Episode: 35\n",
            "Mean Reward: 132.0\n",
            "Episode: 36\n",
            "Mean Reward: 152.0\n",
            "Episode: 37\n",
            "Mean Reward: 114.0\n",
            "Episode: 38\n",
            "Mean Reward: 415.0\n",
            "Episode: 39\n",
            "Mean Reward: 381.0\n",
            "Episode: 40\n",
            "Mean Reward: 163.0\n",
            "Episode: 41\n",
            "Mean Reward: 134.0\n",
            "Episode: 42\n",
            "Mean Reward: 209.0\n",
            "Episode: 43\n",
            "Mean Reward: 191.0\n",
            "Episode: 44\n",
            "Mean Reward: 110.0\n",
            "Episode: 45\n",
            "Mean Reward: 230.0\n",
            "Episode: 46\n",
            "Mean Reward: 207.0\n",
            "Episode: 47\n",
            "Mean Reward: 92.0\n",
            "Episode: 48\n",
            "Mean Reward: 144.0\n",
            "Episode: 49\n",
            "Mean Reward: 141.0\n",
            "Episode: 50\n",
            "Mean Reward: 182.0\n",
            "Episode: 51\n",
            "Mean Reward: 154.0\n",
            "Episode: 52\n",
            "Mean Reward: 195.0\n",
            "Episode: 53\n",
            "Mean Reward: 152.0\n",
            "Episode: 54\n",
            "Mean Reward: 232.0\n",
            "Episode: 55\n",
            "Mean Reward: 138.0\n",
            "Episode: 56\n",
            "Mean Reward: 137.0\n",
            "Episode: 57\n",
            "Mean Reward: 184.0\n",
            "Episode: 58\n",
            "Mean Reward: 189.0\n",
            "Episode: 59\n",
            "Mean Reward: 194.0\n",
            "Episode: 60\n",
            "Mean Reward: 167.0\n",
            "Episode: 61\n",
            "Mean Reward: 131.0\n",
            "Episode: 62\n",
            "Mean Reward: 85.0\n",
            "Episode: 63\n",
            "Mean Reward: 125.0\n",
            "Episode: 64\n",
            "Mean Reward: 131.0\n",
            "Episode: 65\n",
            "Mean Reward: 172.0\n",
            "Episode: 66\n",
            "Mean Reward: 170.0\n",
            "Episode: 67\n",
            "Mean Reward: 174.0\n",
            "Episode: 68\n",
            "Mean Reward: 102.0\n",
            "Episode: 69\n",
            "Mean Reward: 240.0\n",
            "Episode: 70\n",
            "Mean Reward: 164.0\n",
            "Episode: 71\n",
            "Mean Reward: 126.0\n",
            "Episode: 72\n",
            "Mean Reward: 155.0\n",
            "Episode: 73\n",
            "Mean Reward: 182.0\n",
            "Episode: 74\n",
            "Mean Reward: 169.0\n",
            "Episode: 75\n",
            "Mean Reward: 242.0\n",
            "Episode: 76\n",
            "Mean Reward: 105.0\n",
            "Episode: 77\n",
            "Mean Reward: 201.0\n",
            "Episode: 78\n",
            "Mean Reward: 144.0\n",
            "Episode: 79\n",
            "Mean Reward: 283.0\n",
            "Episode: 80\n",
            "Mean Reward: 402.0\n",
            "Episode: 81\n",
            "Mean Reward: 206.0\n",
            "Episode: 82\n",
            "Mean Reward: 179.0\n",
            "Episode: 83\n",
            "Mean Reward: 170.0\n",
            "Episode: 84\n",
            "Mean Reward: 226.0\n",
            "Episode: 85\n",
            "Mean Reward: 163.0\n",
            "Episode: 86\n",
            "Mean Reward: 114.0\n",
            "Episode: 87\n",
            "Mean Reward: 197.0\n",
            "Episode: 88\n",
            "Mean Reward: 135.0\n",
            "Episode: 89\n",
            "Mean Reward: 202.0\n",
            "Episode: 90\n",
            "Mean Reward: 207.0\n",
            "Episode: 91\n",
            "Mean Reward: 218.0\n",
            "Episode: 92\n",
            "Mean Reward: 224.0\n",
            "Episode: 93\n",
            "Mean Reward: 225.0\n",
            "Episode: 94\n",
            "Mean Reward: 254.0\n",
            "Episode: 95\n",
            "Mean Reward: 249.0\n",
            "Episode: 96\n",
            "Mean Reward: 174.0\n",
            "Episode: 97\n",
            "Mean Reward: 268.0\n",
            "Episode: 98\n",
            "Mean Reward: 115.0\n",
            "Episode: 99\n",
            "Mean Reward: 110.0\n",
            "Episode: 100\n",
            "Mean Reward: 210.0\n"
          ]
        }
      ]
    },
    {
      "cell_type": "markdown",
      "source": [
        "Print the average reward over the 100 episodes."
      ],
      "metadata": {
        "id": "XndSYH7wlvn7"
      }
    },
    {
      "cell_type": "code",
      "source": [
        "print(\"Average cumulative reward:\", episode_results.mean())\n",
        "print(\"Is my agent good enough?\", episode_results.mean() > 195)"
      ],
      "metadata": {
        "colab": {
          "base_uri": "https://localhost:8080/"
        },
        "id": "pOiOp9OYlo5Y",
        "outputId": "4e54767c-73a1-41c2-d095-b2a82c87d2af"
      },
      "execution_count": 143,
      "outputs": [
        {
          "output_type": "stream",
          "name": "stdout",
          "text": [
            "Average cumulative reward: 203.99\n",
            "Is my agent good enough? True\n"
          ]
        }
      ]
    },
    {
      "cell_type": "markdown",
      "source": [
        "## Task 3: Render one episode played by the agent"
      ],
      "metadata": {
        "id": "Yg0DCT38lFA6"
      }
    },
    {
      "cell_type": "markdown",
      "source": [
        "Plug your agent to the code below to obtain rendered result."
      ],
      "metadata": {
        "id": "vx1awMr9lc_w"
      }
    },
    {
      "cell_type": "code",
      "source": [
        "env = RecordVideo(gym.make(\"CartPole-v1\"), \"./video\")\n",
        "observation = env.reset()\n",
        "while True:\n",
        "    env.render()\n",
        "    #your agent goes here\n",
        "    action = Reinforcement_Learning_implementation(observation) # Try with Func\n",
        "    observation, reward, done, info = env.step(action) \n",
        "    if done: \n",
        "      break;    \n",
        "env.close()\n",
        "show_video()"
      ],
      "metadata": {
        "colab": {
          "base_uri": "https://localhost:8080/",
          "height": 422
        },
        "id": "LYyavfbIa47D",
        "outputId": "2135271b-297c-4f00-e62e-3d38820d7671"
      },
      "execution_count": 171,
      "outputs": [
        {
          "output_type": "display_data",
          "data": {
            "text/plain": [
              "<IPython.core.display.HTML object>"
            ],
            "text/html": [
              "<video alt=\"test\" autoplay \n",
              "                loop controls style=\"height: 400px;\">\n",
              "                <source src=\"data:video/mp4;base64,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\" type=\"video/mp4\" />\n",
              "             </video>"
            ]
          },
          "metadata": {}
        }
      ]
    },
    {
      "cell_type": "markdown",
      "source": [
        "## Task 4: Format the Jupyter notebook by including step-by-step instruction and explanation"
      ],
      "metadata": {
        "id": "qCHm4u6q7gei"
      }
    },
    {
      "cell_type": "code",
      "source": [],
      "metadata": {
        "id": "XrRQDsev7qtn"
      },
      "execution_count": null,
      "outputs": []
    }
  ]
}